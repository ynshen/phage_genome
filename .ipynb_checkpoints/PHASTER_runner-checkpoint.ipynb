{
 "cells": [
  {
   "cell_type": "markdown",
   "metadata": {},
   "source": [
    "# PHASTER Automator\n"
   ]
  },
  {
   "cell_type": "markdown",
   "metadata": {},
   "source": [
    "## Submit the job to PHASTER\n",
    "\n",
    "\n",
    "### todos\n",
    "- [Y] Generalize the url w/ interactive questions\n",
    "- [N] Add database presearch to save calculation time"
   ]
  },
  {
   "cell_type": "code",
   "execution_count": 114,
   "metadata": {
    "collapsed": false
   },
   "outputs": [
    {
     "name": "stdout",
     "output_type": "stream",
     "text": [
      "The directory for your fasta data:data/genomes_neisseria_m_ncbi/\n",
      "Upload Done!\n"
     ]
    }
   ],
   "source": [
    "import os\n",
    "import json\n",
    "\n",
    "# Extract all.fna in dirc\n",
    "dirc = input('The directory for your fasta data:')\n",
    "if dirc[-1] != '/':\n",
    "    dirc = dirc + '/' \n",
    "genomes_dirc = os.popen('ls ' + dirc + '*.fna').read()\n",
    "genomes_dirc = genomes_dirc.split('\\n')[:-1]\n",
    "os.system(\"mkdir -p \" + dirc + \"phaster_result/temp\")\n",
    "job_list = {}\n",
    "\n",
    "for genome in genomes_dirc:\n",
    "    os.system(\"wget --post-file=\\\"\" + genome + \n",
    "             \"\\\" \\\"http://phaster.ca/phaster_api\\\" -O \" + dirc + \"phaster_result/temp/\" \n",
    "             + genome[genome.rfind('/')+1:genome.rfind('.fna')] + \"_upload\")\n",
    "    retval = json.load(open(dirc + \"phaster_result/temp/\" + genome[genome.rfind('/')+1:genome.rfind('.fna')] + \"_upload\"))\n",
    "    if \"error\" in retval.keys():\n",
    "        print(\"Error in upload of \" + genome[genome.rfind('/')+1:])\n",
    "    else:\n",
    "        job_list[genome[genome.rfind('/')+1:genome.rfind('.fna')]] = retval[\"job_id\"]\n",
    "\n",
    "job = open(dirc + '/phaster_result/job_list', 'w')\n",
    "json.dump(job_list,job)\n",
    "job.close\n",
    "print('Upload Done!')"
   ]
  },
  {
   "cell_type": "markdown",
   "metadata": {},
   "source": [
    "### Manually check PHASTER job status\n",
    "- [Y] Simplified output to if the job batch is finished or how many jobs left."
   ]
  },
  {
   "cell_type": "code",
   "execution_count": 115,
   "metadata": {
    "collapsed": true
   },
   "outputs": [
    {
     "name": "stdout",
     "output_type": "stream",
     "text": [
      "GCA_000008805.1_ASM880v1_genomic: Complete\n",
      "GCA_000009105.1_ASM910v1_genomic: Complete\n",
      "GCA_000009465.1_ASM946v1_genomic: Complete\n",
      "GCA_000014105.1_ASM1410v1_genomic: Complete\n",
      "GCA_000026965.1_ASM2696v1_genomic: Complete\n",
      "GCA_000083565.1_ASM8356v1_genomic: Complete\n",
      "GCA_000152165.1_ASM15216v1_genomic: Complete\n",
      "GCA_000191425.1_ASM19142v1_genomic: Complete\n",
      "GCA_000191445.1_ASM19144v1_genomic: Complete\n",
      "GCA_000191465.1_ASM19146v1_genomic: Complete\n",
      "GCA_000191485.1_ASM19148v1_genomic: Complete\n",
      "GCA_000191505.1_ASM19150v1_genomic: Complete\n",
      "GCA_000191525.1_ASM19152v1_genomic: Complete\n",
      "GCA_000253215.1_ASM25321v1_genomic: Complete\n",
      "GCA_000626595.1_ASM62659v1_genomic: Complete\n",
      "GCA_000787195.2_ASM78719v2_genomic: Complete\n",
      "GCA_000800235.1_ASM80023v1_genomic: Complete\n",
      "GCA_000800275.1_ASM80027v1_genomic: Complete\n",
      "GCA_000800315.1_ASM80031v1_genomic: Complete\n",
      "GCA_000800355.1_ASM80035v1_genomic: Complete\n",
      "GCA_000800415.1_ASM80041v1_genomic: Complete\n",
      "GCA_000816165.1_ASM81616v1_genomic: Complete\n",
      "GCA_001029815.1_ASM102981v1_genomic: Complete\n",
      "GCA_001029835.1_ASM102983v1_genomic: Complete\n",
      "GCA_001697105.1_ASM169710v1_genomic: Complete\n",
      "GCA_001697125.1_ASM169712v1_genomic: Complete\n",
      "GCA_001697165.1_ASM169716v1_genomic: Complete\n",
      "GCA_001697205.1_ASM169720v1_genomic: Complete\n",
      "GCA_001697305.1_ASM169730v1_genomic: Complete\n",
      "GCA_001697325.1_ASM169732v1_genomic: Complete\n",
      "GCA_001697345.1_ASM169734v1_genomic: Complete\n",
      "GCA_001697365.1_ASM169736v1_genomic: Complete\n",
      "GCA_001697385.1_ASM169738v1_genomic: Complete\n",
      "GCA_001697405.1_ASM169740v1_genomic: Complete\n",
      "GCA_001697425.1_ASM169742v1_genomic: Complete\n",
      "GCA_001697445.1_ASM169744v1_genomic: Complete\n",
      "GCA_001697465.1_ASM169746v1_genomic: Complete\n",
      "GCA_001697485.1_ASM169748v1_genomic: Complete\n",
      "GCA_001697505.1_ASM169750v1_genomic: Complete\n",
      "GCA_001697525.1_ASM169752v1_genomic: Complete\n",
      "GCA_001697545.1_ASM169754v1_genomic: Complete\n",
      "GCA_001697565.1_ASM169756v1_genomic: Complete\n",
      "GCA_001697585.1_ASM169758v1_genomic: Complete\n",
      "GCA_001697605.1_ASM169760v1_genomic: Complete\n",
      "GCA_001697625.1_ASM169762v1_genomic: Complete\n",
      "GCA_001697645.1_ASM169764v1_genomic: Complete\n",
      "GCA_001697665.1_ASM169766v1_genomic: Complete\n",
      "GCA_001697685.1_ASM169768v1_genomic: Complete\n",
      "GCA_001697705.1_ASM169770v1_genomic: Complete\n",
      "GCA_001697725.1_ASM169772v1_genomic: Complete\n",
      "GCA_001697745.1_ASM169774v1_genomic: Complete\n",
      "GCA_001697765.1_ASM169776v1_genomic: Complete\n",
      "GCA_001697785.1_ASM169778v1_genomic: Complete\n",
      "GCA_001697805.1_ASM169780v1_genomic: Complete\n",
      "GCA_001697825.1_ASM169782v1_genomic: Complete\n",
      "GCA_001697845.1_ASM169784v1_genomic: Complete\n",
      "GCA_001697865.1_ASM169786v1_genomic: Complete\n",
      "GCA_001697885.1_ASM169788v1_genomic: Complete\n",
      "GCA_001697905.1_ASM169790v1_genomic: Complete\n",
      "GCA_001697925.1_ASM169792v1_genomic: Complete\n",
      "GCA_001697945.1_ASM169794v1_genomic: Complete\n",
      "GCA_001697965.1_ASM169796v1_genomic: Complete\n",
      "GCA_001697985.1_ASM169798v1_genomic: Complete\n",
      "GCA_001698005.1_ASM169800v1_genomic: Complete\n",
      "GCA_001698025.1_ASM169802v1_genomic: Complete\n",
      "GCA_001698045.1_ASM169804v1_genomic: Complete\n",
      "GCA_001698065.1_ASM169806v1_genomic: Complete\n",
      "GCA_001698085.1_ASM169808v1_genomic: Complete\n",
      "GCA_001698105.1_ASM169810v1_genomic: Complete\n",
      "GCA_001750825.1_ASM175082v1_genomic: Complete\n",
      "GCA_001974965.1_ASM197496v1_genomic: Complete\n",
      "GCA_002073235.1_ASM207323v1_genomic: Complete\n",
      "GCA_002073275.1_ASM207327v1_genomic: Complete\n",
      "GCA_002073555.1_ASM207355v1_genomic: Complete\n",
      "GCA_002073575.1_ASM207357v1_genomic: Complete\n",
      "GCA_002073595.1_ASM207359v1_genomic: Complete\n",
      "GCA_002073675.1_ASM207367v1_genomic: Complete\n",
      "GCA_002075815.1_ASM207581v1_genomic: Complete\n"
     ]
    }
   ],
   "source": [
    "import json\n",
    "import os\n",
    "job_list = json.load(open(dirc + '/phaster_result/job_list'))\n",
    "for job in job_list.keys():\n",
    "    os.system(\"wget \\\"http://phaster.ca/phaster_api?acc=\" + job_list[job] \n",
    "             + \"\\\" -O \" + dirc + \"phaster_result/temp/\" + job + \"_retval\")\n",
    "    print(job + ': ' + json.load(open(dirc + \"phaster_result/temp/\" + job + \"_retval\"))['status'])"
   ]
  },
  {
   "cell_type": "markdown",
   "metadata": {},
   "source": [
    "### Download the results and re-organize the files"
   ]
  },
  {
   "cell_type": "code",
   "execution_count": 116,
   "metadata": {
    "collapsed": false
   },
   "outputs": [],
   "source": [
    "for job in job_list.keys():\n",
    "    zip_url = json.load(open(dirc + 'phaster_result/temp/' + job + '_retval'))['zip']\n",
    "    os.system('wget ' + zip_url + ' -O ' + dirc + 'phaster_result/temp/' + job + '.zip')\n",
    "    os.system('unzip ' + dirc + 'phaster_result/temp/' + job + '.zip -d ' + dirc + 'phaster_result/temp/')\n",
    "    os.system('mv ' + dirc + \"phaster_result/temp/detail.txt \" + dirc + \"phaster_result/temp/\" + job + '_detail.txt')\n",
    "    os.system('mv ' + dirc + \"phaster_result/temp/phage_regions.fna \" + dirc + \"phaster_result/\" + job + '_phage_regions.fna')\n",
    "    os.system('mv ' + dirc + \"phaster_result/temp/summary.txt \" + dirc + \"phaster_result/\" + job + '_summary.txt')"
   ]
  },
  {
   "cell_type": "markdown",
   "metadata": {
    "collapsed": false
   },
   "source": [
    "### Parse the results\n",
    "#### Aims\n",
    "- [N] Generate a report with\n",
    "    - genome file name\n",
    "    - number of prophages\n",
    "    - name of putative complete prophages and score\n",
    "    - job id and link to the web result\n",
    "    \n",
    "- [N] Pull out all the putative complete prophages (or give a list for quick access to FASTA files)"
   ]
  },
  {
   "cell_type": "code",
   "execution_count": 121,
   "metadata": {
    "collapsed": false
   },
   "outputs": [
    {
     "ename": "FileNotFoundError",
     "evalue": "[Errno 2] No such file or directory: 'data/genomes_neisseria_g_ncbi/phaster_result/GCA_000008805.1_ASM880v1_genomic_summary.txt'",
     "output_type": "error",
     "traceback": [
      "\u001b[0;31m---------------------------------------------------------------------------\u001b[0m",
      "\u001b[0;31mFileNotFoundError\u001b[0m                         Traceback (most recent call last)",
      "\u001b[0;32m<ipython-input-121-212004adba94>\u001b[0m in \u001b[0;36m<module>\u001b[0;34m()\u001b[0m\n\u001b[1;32m      7\u001b[0m \u001b[0;34m\u001b[0m\u001b[0m\n\u001b[1;32m      8\u001b[0m \u001b[0;32mfor\u001b[0m \u001b[0mjob_number\u001b[0m\u001b[0;34m,\u001b[0m \u001b[0mjob\u001b[0m \u001b[0;32min\u001b[0m \u001b[0menumerate\u001b[0m\u001b[0;34m(\u001b[0m\u001b[0mjob_list\u001b[0m\u001b[0;34m.\u001b[0m\u001b[0mkeys\u001b[0m\u001b[0;34m(\u001b[0m\u001b[0;34m)\u001b[0m\u001b[0;34m)\u001b[0m\u001b[0;34m:\u001b[0m\u001b[0;34m\u001b[0m\u001b[0m\n\u001b[0;32m----> 9\u001b[0;31m     \u001b[0msummary\u001b[0m  \u001b[0;34m=\u001b[0m \u001b[0mopen\u001b[0m\u001b[0;34m(\u001b[0m\u001b[0mdirc\u001b[0m \u001b[0;34m+\u001b[0m \u001b[0;34m\"phaster_result/\"\u001b[0m \u001b[0;34m+\u001b[0m \u001b[0mjob\u001b[0m \u001b[0;34m+\u001b[0m \u001b[0;34m'_summary.txt'\u001b[0m\u001b[0;34m)\u001b[0m\u001b[0;34m\u001b[0m\u001b[0m\n\u001b[0m\u001b[1;32m     10\u001b[0m     \u001b[0mfasta\u001b[0m \u001b[0;34m=\u001b[0m \u001b[0mopen\u001b[0m\u001b[0;34m(\u001b[0m\u001b[0mdirc\u001b[0m \u001b[0;34m+\u001b[0m \u001b[0;34m\"phaster_result/\"\u001b[0m \u001b[0;34m+\u001b[0m \u001b[0mjob\u001b[0m \u001b[0;34m+\u001b[0m \u001b[0;34m'_phage_regions.fna'\u001b[0m\u001b[0;34m)\u001b[0m\u001b[0;34m.\u001b[0m\u001b[0mread\u001b[0m\u001b[0;34m(\u001b[0m\u001b[0;34m)\u001b[0m\u001b[0;34m.\u001b[0m\u001b[0msplit\u001b[0m\u001b[0;34m(\u001b[0m\u001b[0;34m'>'\u001b[0m\u001b[0;34m)\u001b[0m\u001b[0;34m\u001b[0m\u001b[0m\n\u001b[1;32m     11\u001b[0m     \u001b[0;32mif\u001b[0m \u001b[0mfasta\u001b[0m\u001b[0;34m[\u001b[0m\u001b[0;36m0\u001b[0m\u001b[0;34m]\u001b[0m \u001b[0;34m==\u001b[0m\u001b[0;34m''\u001b[0m\u001b[0;34m:\u001b[0m\u001b[0;34m\u001b[0m\u001b[0m\n",
      "\u001b[0;31mFileNotFoundError\u001b[0m: [Errno 2] No such file or directory: 'data/genomes_neisseria_g_ncbi/phaster_result/GCA_000008805.1_ASM880v1_genomic_summary.txt'"
     ]
    }
   ],
   "source": [
    "import pandas as pd\n",
    "\n",
    "batch_report = pd.DataFrame(columns = ['number', 'file_name', 'phage_regions', 'intact', 'questionable', 'incomplete'])\n",
    "complete_report = pd.DataFrame(columns = ['host(file_name)', 'position', 'length', 'Score', 'keywords', 'GC%'])\n",
    "complete_fasta = open(dirc + \"phaster_result/intact_phages.fna\", 'w')\n",
    "\n",
    "for job_number, job in enumerate(job_list.keys()):\n",
    "    summary  = open(dirc + \"phaster_result/\" + job + '_summary.txt')\n",
    "    fasta = open(dirc + \"phaster_result/\" + job + '_phage_regions.fna').read().split('>')\n",
    "    if fasta[0] =='':\n",
    "        fasta = fasta[1:]\n",
    "    # head = [i for i,s in enumerate(summary.readlines()) if '----' in s] is 32\n",
    "    batch_report.loc[job_number] = [job_number, job, 0, 0, 0, 0]\n",
    "    for i, line in enumerate(summary.readlines()[33:]):\n",
    "        region = line.split()\n",
    "        status = region[2][:region[2].find('(')]\n",
    "        batch_report.set_value(job_number, 'phage_regions', batch_report.loc[job_number]['phage_regions'] + 1)\n",
    "        batch_report.set_value(job_number, status, batch_report.loc[job_number][status] + 1)\n",
    "        if status == 'intact':\n",
    "            complete_report.loc[len(complete_report)] = [job, region[4], region[1],float(region[2][region[2].find('(')+1:-1]), region[3], region[-1]]\n",
    "            complete_fasta.write('>' + job + '_id_' + job_list[job]+ '_'+ fasta[i])\n",
    "\n",
    "batch_report.to_csv(dirc + '/phaster_result/batch_report.csv')\n",
    "complete_report.to_csv(dirc + '/phaster_result/intact_report.csv')\n",
    "    "
   ]
  },
  {
   "cell_type": "code",
   "execution_count": 120,
   "metadata": {
    "collapsed": false
   },
   "outputs": [
    {
     "data": {
      "text/plain": [
       "'data/genomes_neisseria_m_ncbi/'"
      ]
     },
     "execution_count": 120,
     "metadata": {},
     "output_type": "execute_result"
    }
   ],
   "source": [
    "dirc"
   ]
  }
 ],
 "metadata": {
  "kernelspec": {
   "display_name": "Python 3",
   "language": "python",
   "name": "python3"
  },
  "language_info": {
   "codemirror_mode": {
    "name": "ipython",
    "version": 3
   },
   "file_extension": ".py",
   "mimetype": "text/x-python",
   "name": "python",
   "nbconvert_exporter": "python",
   "pygments_lexer": "ipython3",
   "version": "3.6.0"
  }
 },
 "nbformat": 4,
 "nbformat_minor": 2
}
